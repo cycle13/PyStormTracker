{
 "cells": [
  {
   "cell_type": "code",
   "execution_count": 1,
   "metadata": {
    "collapsed": true
   },
   "outputs": [],
   "source": [
    "import numpy as np\n",
    "import Nio"
   ]
  },
  {
   "cell_type": "code",
   "execution_count": 3,
   "metadata": {
    "collapsed": false
   },
   "outputs": [],
   "source": [
    "f = Nio.open_file(\"../pytrack/slp.2012.nc\")"
   ]
  },
  {
   "cell_type": "code",
   "execution_count": 4,
   "metadata": {
    "collapsed": false
   },
   "outputs": [
    {
     "name": "stdout",
     "output_type": "stream",
     "text": [
      "Nio file:\t../pytrack/slp.2012.nc\n",
      "   global attributes:\n",
      "      Conventions : COARDS\n",
      "      title : 4x daily NMC reanalysis (2012)\n",
      "      description : Data is from NMC initialized reanalysis\n",
      "(4x/day).  It consists of most variables interpolated to\n",
      "pressure surfaces from model (sigma) surfaces.\n",
      "      platform : Model\n",
      "      references : http://www.esrl.noaa.gov/psd/data/gridded/data.ncep.reanalysis.html\n",
      "      history : created 2011/12 by Hoop (netCDF2.3)\n",
      "Converted to chunked, deflated non-packed NetCDF4 2014/09\n",
      "   dimensions:\n",
      "      lat = 73\n",
      "      lon = 144\n",
      "      time = 1464 // unlimited\n",
      "   variables:\n",
      "      float lat [ lat ]\n",
      "         units :\tdegrees_north\n",
      "         actual_range :\t[90, -90]\n",
      "         long_name :\tLatitude\n",
      "         standard_name :\tlatitude\n",
      "         axis :\tY\n",
      "      float lon [ lon ]\n",
      "         units :\tdegrees_east\n",
      "         long_name :\tLongitude\n",
      "         actual_range :\t[0, 357.5]\n",
      "         standard_name :\tlongitude\n",
      "         axis :\tX\n",
      "      double time [ time ]\n",
      "         long_name :\tTime\n",
      "         delta_t :\t0000-00-00 06:00:00\n",
      "         standard_name :\ttime\n",
      "         axis :\tT\n",
      "         units :\thours since 1800-01-01 00:00:0.0\n",
      "         actual_range :\t[1858344, 1867122]\n",
      "      float slp [ time, lat, lon ]\n",
      "         long_name :\t4xDaily Sea Level Pressure\n",
      "         units :\tPascals\n",
      "         precision :\t0\n",
      "         least_significant_digit :\t-1\n",
      "         GRIB_id :\t2\n",
      "         GRIB_name :\tPRMSL\n",
      "         var_desc :\tSea Level Pressure\n",
      "         dataset :\tNMC Reanalysis\n",
      "         level_desc :\tSea Level\n",
      "         statistic :\tIndividual Obs\n",
      "         parent_stat :\tOther\n",
      "         missing_value :\t-9.96921e+36\n",
      "         actual_range :\t[92920, 111080]\n",
      "         valid_range :\t[87000, 115000]\n",
      "         _FillValue :\t-9.96921e+36\n",
      "\n"
     ]
    }
   ],
   "source": [
    "print(f)"
   ]
  },
  {
   "cell_type": "code",
   "execution_count": 5,
   "metadata": {
    "collapsed": true
   },
   "outputs": [],
   "source": [
    "globalAtts = f.attributes.keys()"
   ]
  },
  {
   "cell_type": "code",
   "execution_count": 6,
   "metadata": {
    "collapsed": false
   },
   "outputs": [
    {
     "data": {
      "text/plain": [
       "['description', 'title', 'Conventions', 'platform', 'references', 'history']"
      ]
     },
     "execution_count": 6,
     "metadata": {},
     "output_type": "execute_result"
    }
   ],
   "source": [
    "globalAtts"
   ]
  },
  {
   "cell_type": "code",
   "execution_count": 7,
   "metadata": {
    "collapsed": true
   },
   "outputs": [],
   "source": [
    "varNames = f.variables.keys()"
   ]
  },
  {
   "cell_type": "code",
   "execution_count": 8,
   "metadata": {
    "collapsed": false
   },
   "outputs": [
    {
     "name": "stdout",
     "output_type": "stream",
     "text": [
      "['lat', 'lon', 'slp', 'time']\n"
     ]
    }
   ],
   "source": [
    "print(varNames)"
   ]
  },
  {
   "cell_type": "code",
   "execution_count": 9,
   "metadata": {
    "collapsed": false
   },
   "outputs": [],
   "source": [
    "var = f.variables['slp']"
   ]
  },
  {
   "cell_type": "code",
   "execution_count": 10,
   "metadata": {
    "collapsed": false
   },
   "outputs": [
    {
     "name": "stdout",
     "output_type": "stream",
     "text": [
      "Variable: slp\n",
      "Type: float\n",
      "Total Size: 61558272 bytes\n",
      "            15389568 values\n",
      "Number of Dimensions: 3\n",
      "Dimensions and sizes:\t[time | 1464] x [lat | 73] x [lon | 144]\n",
      "Coordinates: \n",
      "            time: [1858344..1867122]\n",
      "            lat: [90..-90]\n",
      "            lon: [ 0..357.5]\n",
      "Number of Attributes: 15\n",
      "         long_name :\t4xDaily Sea Level Pressure\n",
      "         units :\tPascals\n",
      "         precision :\t0\n",
      "         least_significant_digit :\t-1\n",
      "         GRIB_id :\t2\n",
      "         GRIB_name :\tPRMSL\n",
      "         var_desc :\tSea Level Pressure\n",
      "         dataset :\tNMC Reanalysis\n",
      "         level_desc :\tSea Level\n",
      "         statistic :\tIndividual Obs\n",
      "         parent_stat :\tOther\n",
      "         missing_value :\t-9.96921e+36\n",
      "         actual_range :\t[92920, 111080]\n",
      "         valid_range :\t[87000, 115000]\n",
      "         _FillValue :\t-9.96921e+36\n",
      "\n"
     ]
    }
   ],
   "source": [
    "print(var)"
   ]
  },
  {
   "cell_type": "code",
   "execution_count": 11,
   "metadata": {
    "collapsed": false
   },
   "outputs": [
    {
     "data": {
      "text/plain": [
       "<Nio.NioVariable at 0x10dbc0c50>"
      ]
     },
     "execution_count": 11,
     "metadata": {},
     "output_type": "execute_result"
    }
   ],
   "source": [
    "var"
   ]
  },
  {
   "cell_type": "code",
   "execution_count": 12,
   "metadata": {
    "collapsed": false
   },
   "outputs": [
    {
     "data": {
      "text/plain": [
       "(1464, 73, 144)"
      ]
     },
     "execution_count": 12,
     "metadata": {},
     "output_type": "execute_result"
    }
   ],
   "source": [
    "var.shape"
   ]
  },
  {
   "cell_type": "code",
   "execution_count": 13,
   "metadata": {
    "collapsed": false
   },
   "outputs": [
    {
     "data": {
      "text/plain": [
       "Nio.NioVariable"
      ]
     },
     "execution_count": 13,
     "metadata": {},
     "output_type": "execute_result"
    }
   ],
   "source": [
    "type(var)"
   ]
  },
  {
   "cell_type": "code",
   "execution_count": 14,
   "metadata": {
    "collapsed": false
   },
   "outputs": [
    {
     "data": {
      "text/plain": [
       "{'GRIB_id': array([2], dtype=int16),\n",
       " 'GRIB_name': 'PRMSL',\n",
       " '_FillValue': array([ -9.96920997e+36], dtype=float32),\n",
       " 'actual_range': array([  92920.,  111080.], dtype=float32),\n",
       " 'dataset': 'NMC Reanalysis',\n",
       " 'least_significant_digit': array([-1], dtype=int16),\n",
       " 'level_desc': 'Sea Level',\n",
       " 'long_name': '4xDaily Sea Level Pressure',\n",
       " 'missing_value': array([ -9.96920997e+36], dtype=float32),\n",
       " 'parent_stat': 'Other',\n",
       " 'precision': array([0], dtype=int16),\n",
       " 'statistic': 'Individual Obs',\n",
       " 'units': 'Pascals',\n",
       " 'valid_range': array([  87000.,  115000.], dtype=float32),\n",
       " 'var_desc': 'Sea Level Pressure'}"
      ]
     },
     "execution_count": 14,
     "metadata": {},
     "output_type": "execute_result"
    }
   ],
   "source": [
    "var.attributes"
   ]
  },
  {
   "cell_type": "code",
   "execution_count": 15,
   "metadata": {
    "collapsed": false
   },
   "outputs": [
    {
     "data": {
      "text/plain": [
       "('time', 'lat', 'lon')"
      ]
     },
     "execution_count": 15,
     "metadata": {},
     "output_type": "execute_result"
    }
   ],
   "source": [
    "var.dimensions"
   ]
  },
  {
   "cell_type": "code",
   "execution_count": 16,
   "metadata": {
    "collapsed": false
   },
   "outputs": [
    {
     "data": {
      "text/plain": [
       "Nio.NioFile"
      ]
     },
     "execution_count": 16,
     "metadata": {},
     "output_type": "execute_result"
    }
   ],
   "source": [
    "type(f)"
   ]
  }
 ],
 "metadata": {
  "kernelspec": {
   "display_name": "Python 2",
   "language": "python",
   "name": "python2"
  },
  "language_info": {
   "codemirror_mode": {
    "name": "ipython",
    "version": 2
   },
   "file_extension": ".py",
   "mimetype": "text/x-python",
   "name": "python",
   "nbconvert_exporter": "python",
   "pygments_lexer": "ipython2",
   "version": "2.7.10"
  }
 },
 "nbformat": 4,
 "nbformat_minor": 0
}
